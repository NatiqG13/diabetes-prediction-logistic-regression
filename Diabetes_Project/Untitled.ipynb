{
 "cells": [
  {
   "cell_type": "code",
   "execution_count": 46,
   "id": "06e084ca-ccd7-4510-8262-e21d3f145448",
   "metadata": {},
   "outputs": [
    {
     "name": "stdout",
     "output_type": "stream",
     "text": [
      "[1 0 1 0 0 0 0 0 0 1 0 0 1 0 0 0 0 0 0 0 0 0 0 0 1 1 0 0 0 0 0 0 0 1 0 0 1\n",
      " 0 1 0 0 0 1 0 0 0 1 1 1 1 1 0 0 1 1 0 1 0 1 0 1 0 0 1 0 1 0 0 0 0 0 1 0 1\n",
      " 0 0 1 0 0 0 0 0 0 0 0 0 0 0 1 0 0 0 0 0 1 1 0 0 0 1 0 0 1 0 0 0 1 0 0 1 0\n",
      " 0 1 0 0 0 0 0 0 0 0 0 1 0 0 1 0 0 0 0 0 0 0 1 0 0 0 1 0 0 1 0 1 1 0 0 1 0\n",
      " 0 0 1]\n",
      "Model Accuracy: 78.81 %\n"
     ]
    }
   ],
   "source": [
    "import pandas as pd\n",
    "from sklearn.preprocessing import MinMaxScaler\n",
    "from sklearn.model_selection import train_test_split\n",
    "from sklearn.linear_model import LogisticRegression\n",
    "from sklearn.metrics import accuracy_score\n",
    "\n",
    "\n",
    "model = LogisticRegression()\n",
    "scaler = MinMaxScaler()\n",
    "\n",
    "df = pd.read_csv(\"diabetes.csv\")\n",
    "\n",
    "\n",
    "# Dropping rows where Glucose or BMI are 0 (invalid values)\n",
    "df = df[df['Glucose'] != 0]\n",
    "df = df[df['BMI'] != 0]\n",
    "\n",
    "\n",
    "\n",
    "# Replacing the 0 values in these columns with the median\n",
    "df['Insulin']=df['Insulin'].replace(0, df['Insulin'].median())\n",
    "df['BloodPressure']=df['BloodPressure'].replace(0, df['BloodPressure'].median())\n",
    "df['SkinThickness']=df['SkinThickness'].replace(0, df['SkinThickness'].median())\n",
    "\n",
    "\n",
    "# Scaling the values using MinMaxScaler and putting it back into the columns\n",
    "df['Insulin'] = scaler.fit_transform(df[['Insulin']])\n",
    "df['BloodPressure'] = scaler.fit_transform(df[['BloodPressure']])\n",
    "df['SkinThickness'] = scaler.fit_transform(df[['SkinThickness']])\n",
    "df['Glucose'] = scaler.fit_transform(df[['Glucose']])\n",
    "df['BMI'] = scaler.fit_transform(df[['BMI']])\n",
    "\n",
    "X = df.drop(columns='Outcome')\n",
    "Y = df['Outcome']\n",
    "X_train, X_test, y_train, y_test = train_test_split(X,Y, test_size=0.2, random_state=42)\n",
    "\n",
    "# Splitting in to training and testing sets\n",
    "model.fit(X_train, y_train)\n",
    "predictions = model.predict(X_test)\n",
    "\n",
    "# Predicting and evaluating\n",
    "print(predictions)\n",
    "accuracy = accuracy_score(y_test, predictions)\n",
    "print(\"Model Accuracy:\", round(accuracy * 100, 2), \"%\")\n",
    "\n",
    "\n",
    "\n",
    "\n",
    "\n",
    "\n",
    "\n",
    "\n"
   ]
  },
  {
   "cell_type": "code",
   "execution_count": null,
   "id": "237fce2d-9655-46dc-9759-6e7fb1a63538",
   "metadata": {},
   "outputs": [],
   "source": []
  }
 ],
 "metadata": {
  "kernelspec": {
   "display_name": "Python 3 (ipykernel)",
   "language": "python",
   "name": "python3"
  },
  "language_info": {
   "codemirror_mode": {
    "name": "ipython",
    "version": 3
   },
   "file_extension": ".py",
   "mimetype": "text/x-python",
   "name": "python",
   "nbconvert_exporter": "python",
   "pygments_lexer": "ipython3",
   "version": "3.11.9"
  }
 },
 "nbformat": 4,
 "nbformat_minor": 5
}
